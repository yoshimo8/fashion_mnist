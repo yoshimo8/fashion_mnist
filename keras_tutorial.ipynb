{
 "cells": [
  {
   "cell_type": "code",
   "execution_count": 1,
   "metadata": {
    "collapsed": false
   },
   "outputs": [],
   "source": [
    "import theano\n",
    "from theano import tensor"
   ]
  },
  {
   "cell_type": "code",
   "execution_count": 2,
   "metadata": {
    "collapsed": false
   },
   "outputs": [],
   "source": [
    "a = tensor.dscalar()\n",
    "b = tensor.dscalar()"
   ]
  },
  {
   "cell_type": "code",
   "execution_count": 3,
   "metadata": {
    "collapsed": false
   },
   "outputs": [],
   "source": [
    "c = a + b"
   ]
  },
  {
   "cell_type": "code",
   "execution_count": 4,
   "metadata": {
    "collapsed": false
   },
   "outputs": [],
   "source": [
    "f = theano.function([a,b],c)"
   ]
  },
  {
   "cell_type": "code",
   "execution_count": 6,
   "metadata": {
    "collapsed": false
   },
   "outputs": [],
   "source": [
    "result = f(1.5,2.5)"
   ]
  },
  {
   "cell_type": "code",
   "execution_count": 7,
   "metadata": {
    "collapsed": false
   },
   "outputs": [],
   "source": [
    "import tensorflow as tf"
   ]
  },
  {
   "cell_type": "code",
   "execution_count": 8,
   "metadata": {
    "collapsed": false
   },
   "outputs": [],
   "source": [
    "a = tf.placeholder(tf.float32)\n",
    "b = tf.placeholder(tf.float32)\n",
    "add = tf.add(a,b)"
   ]
  },
  {
   "cell_type": "code",
   "execution_count": 9,
   "metadata": {
    "collapsed": false
   },
   "outputs": [],
   "source": [
    "sess = tf.Session()\n",
    "binding={a:1.5,b:2.5}"
   ]
  },
  {
   "cell_type": "code",
   "execution_count": 10,
   "metadata": {
    "collapsed": false
   },
   "outputs": [
    {
     "name": "stdout",
     "output_type": "stream",
     "text": [
      "4.0\n"
     ]
    }
   ],
   "source": [
    "c = sess.run(add, feed_dict=binding)\n",
    "print(result)"
   ]
  },
  {
   "cell_type": "code",
   "execution_count": 13,
   "metadata": {
    "collapsed": false
   },
   "outputs": [
    {
     "name": "stdout",
     "output_type": "stream",
     "text": [
      "Epoch 1/150\n",
      "768/768 [==============================] - 0s - loss: 0.6771 - acc: 0.6510     \n",
      "Epoch 2/150\n",
      "768/768 [==============================] - 0s - loss: 0.6595 - acc: 0.6510     \n",
      "Epoch 3/150\n",
      "768/768 [==============================] - 0s - loss: 0.6474 - acc: 0.6510     \n",
      "Epoch 4/150\n",
      "768/768 [==============================] - 0s - loss: 0.6386 - acc: 0.6510     \n",
      "Epoch 5/150\n",
      "768/768 [==============================] - 0s - loss: 0.6321 - acc: 0.6510     \n",
      "Epoch 6/150\n",
      "768/768 [==============================] - 0s - loss: 0.6184 - acc: 0.6510     \n",
      "Epoch 7/150\n",
      "768/768 [==============================] - 0s - loss: 0.6163 - acc: 0.6510     \n",
      "Epoch 8/150\n",
      "768/768 [==============================] - 0s - loss: 0.6136 - acc: 0.6510     \n",
      "Epoch 9/150\n",
      "768/768 [==============================] - 0s - loss: 0.6041 - acc: 0.6888     \n",
      "Epoch 10/150\n",
      "768/768 [==============================] - 0s - loss: 0.6030 - acc: 0.6888     \n",
      "Epoch 11/150\n",
      "768/768 [==============================] - 0s - loss: 0.5959 - acc: 0.6810     \n",
      "Epoch 12/150\n",
      "768/768 [==============================] - 0s - loss: 0.5962 - acc: 0.6888     \n",
      "Epoch 13/150\n",
      "768/768 [==============================] - 0s - loss: 0.5917 - acc: 0.6810     \n",
      "Epoch 14/150\n",
      "768/768 [==============================] - 0s - loss: 0.5882 - acc: 0.6914     \n",
      "Epoch 15/150\n",
      "768/768 [==============================] - 0s - loss: 0.5834 - acc: 0.6953     \n",
      "Epoch 16/150\n",
      "768/768 [==============================] - 0s - loss: 0.5829 - acc: 0.6888     \n",
      "Epoch 17/150\n",
      "768/768 [==============================] - 0s - loss: 0.5815 - acc: 0.7070     \n",
      "Epoch 18/150\n",
      "768/768 [==============================] - 0s - loss: 0.5855 - acc: 0.6940     \n",
      "Epoch 19/150\n",
      "768/768 [==============================] - 0s - loss: 0.5781 - acc: 0.7083     \n",
      "Epoch 20/150\n",
      "768/768 [==============================] - 0s - loss: 0.5799 - acc: 0.6966     \n",
      "Epoch 21/150\n",
      "768/768 [==============================] - 0s - loss: 0.5746 - acc: 0.7122     \n",
      "Epoch 22/150\n",
      "768/768 [==============================] - 0s - loss: 0.5763 - acc: 0.7005     \n",
      "Epoch 23/150\n",
      "768/768 [==============================] - 0s - loss: 0.5728 - acc: 0.7161     \n",
      "Epoch 24/150\n",
      "768/768 [==============================] - 0s - loss: 0.5786 - acc: 0.7135     \n",
      "Epoch 25/150\n",
      "768/768 [==============================] - 0s - loss: 0.5679 - acc: 0.7083     \n",
      "Epoch 26/150\n",
      "768/768 [==============================] - 0s - loss: 0.5796 - acc: 0.6979     \n",
      "Epoch 27/150\n",
      "768/768 [==============================] - 0s - loss: 0.5731 - acc: 0.7018     \n",
      "Epoch 28/150\n",
      "768/768 [==============================] - 0s - loss: 0.5651 - acc: 0.7109     \n",
      "Epoch 29/150\n",
      "768/768 [==============================] - 0s - loss: 0.5701 - acc: 0.7057     \n",
      "Epoch 30/150\n",
      "768/768 [==============================] - 0s - loss: 0.5656 - acc: 0.7148     \n",
      "Epoch 31/150\n",
      "768/768 [==============================] - 0s - loss: 0.5655 - acc: 0.7083     \n",
      "Epoch 32/150\n",
      "768/768 [==============================] - 0s - loss: 0.5614 - acc: 0.7096     \n",
      "Epoch 33/150\n",
      "768/768 [==============================] - 0s - loss: 0.5589 - acc: 0.7148     \n",
      "Epoch 34/150\n",
      "768/768 [==============================] - 0s - loss: 0.5621 - acc: 0.7122     \n",
      "Epoch 35/150\n",
      "768/768 [==============================] - 0s - loss: 0.5578 - acc: 0.7174     \n",
      "Epoch 36/150\n",
      "768/768 [==============================] - 0s - loss: 0.5545 - acc: 0.7083     \n",
      "Epoch 37/150\n",
      "768/768 [==============================] - 0s - loss: 0.5545 - acc: 0.7161     \n",
      "Epoch 38/150\n",
      "768/768 [==============================] - 0s - loss: 0.5610 - acc: 0.7122     \n",
      "Epoch 39/150\n",
      "768/768 [==============================] - 0s - loss: 0.5557 - acc: 0.7188     \n",
      "Epoch 40/150\n",
      "768/768 [==============================] - 0s - loss: 0.5563 - acc: 0.7109     \n",
      "Epoch 41/150\n",
      "768/768 [==============================] - 0s - loss: 0.5507 - acc: 0.7201     \n",
      "Epoch 42/150\n",
      "768/768 [==============================] - 0s - loss: 0.5517 - acc: 0.7201     \n",
      "Epoch 43/150\n",
      "768/768 [==============================] - 0s - loss: 0.5457 - acc: 0.7396     \n",
      "Epoch 44/150\n",
      "768/768 [==============================] - 0s - loss: 0.5495 - acc: 0.7305     \n",
      "Epoch 45/150\n",
      "768/768 [==============================] - 0s - loss: 0.5462 - acc: 0.7344     \n",
      "Epoch 46/150\n",
      "768/768 [==============================] - 0s - loss: 0.5435 - acc: 0.7148     \n",
      "Epoch 47/150\n",
      "768/768 [==============================] - 0s - loss: 0.5430 - acc: 0.7305     \n",
      "Epoch 48/150\n",
      "768/768 [==============================] - 0s - loss: 0.5417 - acc: 0.7357     \n",
      "Epoch 49/150\n",
      "768/768 [==============================] - 0s - loss: 0.5377 - acc: 0.7357     \n",
      "Epoch 50/150\n",
      "768/768 [==============================] - 0s - loss: 0.5389 - acc: 0.7370     \n",
      "Epoch 51/150\n",
      "768/768 [==============================] - 0s - loss: 0.5384 - acc: 0.7279     \n",
      "Epoch 52/150\n",
      "768/768 [==============================] - 0s - loss: 0.5418 - acc: 0.7292     \n",
      "Epoch 53/150\n",
      "768/768 [==============================] - 0s - loss: 0.5370 - acc: 0.7253     \n",
      "Epoch 54/150\n",
      "768/768 [==============================] - 0s - loss: 0.5366 - acc: 0.7292     \n",
      "Epoch 55/150\n",
      "768/768 [==============================] - 0s - loss: 0.5360 - acc: 0.7305     \n",
      "Epoch 56/150\n",
      "768/768 [==============================] - 0s - loss: 0.5363 - acc: 0.7344     \n",
      "Epoch 57/150\n",
      "768/768 [==============================] - 0s - loss: 0.5296 - acc: 0.7357     \n",
      "Epoch 58/150\n",
      "768/768 [==============================] - 0s - loss: 0.5338 - acc: 0.7292     \n",
      "Epoch 59/150\n",
      "768/768 [==============================] - 0s - loss: 0.5269 - acc: 0.7396     \n",
      "Epoch 60/150\n",
      "768/768 [==============================] - 0s - loss: 0.5294 - acc: 0.7305     \n",
      "Epoch 61/150\n",
      "768/768 [==============================] - 0s - loss: 0.5225 - acc: 0.7318     \n",
      "Epoch 62/150\n",
      "768/768 [==============================] - 0s - loss: 0.5264 - acc: 0.7435     \n",
      "Epoch 63/150\n",
      "768/768 [==============================] - 0s - loss: 0.5318 - acc: 0.7396     \n",
      "Epoch 64/150\n",
      "768/768 [==============================] - 0s - loss: 0.5258 - acc: 0.7448     \n",
      "Epoch 65/150\n",
      "768/768 [==============================] - 0s - loss: 0.5199 - acc: 0.7513     \n",
      "Epoch 66/150\n",
      "768/768 [==============================] - 0s - loss: 0.5188 - acc: 0.7474     \n",
      "Epoch 67/150\n",
      "768/768 [==============================] - 0s - loss: 0.5163 - acc: 0.7409     \n",
      "Epoch 68/150\n",
      "768/768 [==============================] - 0s - loss: 0.5203 - acc: 0.7474     \n",
      "Epoch 69/150\n",
      "768/768 [==============================] - 0s - loss: 0.5134 - acc: 0.7500     \n",
      "Epoch 70/150\n",
      "768/768 [==============================] - 0s - loss: 0.5225 - acc: 0.7409     \n",
      "Epoch 71/150\n",
      "768/768 [==============================] - 0s - loss: 0.5157 - acc: 0.7513     \n",
      "Epoch 72/150\n",
      "768/768 [==============================] - 0s - loss: 0.5121 - acc: 0.7539     \n",
      "Epoch 73/150\n",
      "768/768 [==============================] - 0s - loss: 0.5088 - acc: 0.7474     \n",
      "Epoch 74/150\n",
      "768/768 [==============================] - 0s - loss: 0.5114 - acc: 0.7487     \n",
      "Epoch 75/150\n",
      "768/768 [==============================] - 0s - loss: 0.5080 - acc: 0.7539     \n",
      "Epoch 76/150\n",
      "768/768 [==============================] - 0s - loss: 0.5061 - acc: 0.7630     \n",
      "Epoch 77/150\n",
      "768/768 [==============================] - 0s - loss: 0.5060 - acc: 0.7526     \n",
      "Epoch 78/150\n",
      "768/768 [==============================] - 0s - loss: 0.5035 - acc: 0.7539     \n",
      "Epoch 79/150\n",
      "768/768 [==============================] - 0s - loss: 0.5115 - acc: 0.7487     \n",
      "Epoch 80/150\n",
      "768/768 [==============================] - 0s - loss: 0.5040 - acc: 0.7539     \n",
      "Epoch 81/150\n",
      "768/768 [==============================] - 0s - loss: 0.4971 - acc: 0.7487     \n",
      "Epoch 82/150\n",
      "768/768 [==============================] - 0s - loss: 0.5011 - acc: 0.7604     \n",
      "Epoch 83/150\n",
      "768/768 [==============================] - 0s - loss: 0.4976 - acc: 0.7643     \n",
      "Epoch 84/150\n",
      "768/768 [==============================] - 0s - loss: 0.4925 - acc: 0.7630     \n",
      "Epoch 85/150\n",
      "768/768 [==============================] - 0s - loss: 0.4953 - acc: 0.7604     \n",
      "Epoch 86/150\n",
      "768/768 [==============================] - 0s - loss: 0.5052 - acc: 0.7422     \n",
      "Epoch 87/150\n",
      "768/768 [==============================] - 0s - loss: 0.4969 - acc: 0.7669     \n",
      "Epoch 88/150\n",
      "768/768 [==============================] - 0s - loss: 0.4896 - acc: 0.7630     \n",
      "Epoch 89/150\n",
      "768/768 [==============================] - 0s - loss: 0.4958 - acc: 0.7721     \n",
      "Epoch 90/150\n",
      "768/768 [==============================] - 0s - loss: 0.4939 - acc: 0.7682     \n",
      "Epoch 91/150\n",
      "768/768 [==============================] - 0s - loss: 0.4853 - acc: 0.7604     \n",
      "Epoch 92/150\n",
      "768/768 [==============================] - 0s - loss: 0.4911 - acc: 0.7617     \n",
      "Epoch 93/150\n",
      "768/768 [==============================] - 0s - loss: 0.4857 - acc: 0.7526     \n",
      "Epoch 94/150\n",
      "768/768 [==============================] - 0s - loss: 0.4897 - acc: 0.7565     \n",
      "Epoch 95/150\n",
      "768/768 [==============================] - 0s - loss: 0.4829 - acc: 0.7539     \n",
      "Epoch 96/150\n",
      "768/768 [==============================] - 0s - loss: 0.4858 - acc: 0.7643     \n",
      "Epoch 97/150\n",
      "768/768 [==============================] - 0s - loss: 0.4802 - acc: 0.7747     \n",
      "Epoch 98/150\n",
      "768/768 [==============================] - 0s - loss: 0.4814 - acc: 0.7799     \n",
      "Epoch 99/150\n",
      "768/768 [==============================] - 0s - loss: 0.4785 - acc: 0.7708     \n",
      "Epoch 100/150\n",
      "768/768 [==============================] - 0s - loss: 0.4760 - acc: 0.7760     \n",
      "Epoch 101/150\n",
      "768/768 [==============================] - 0s - loss: 0.4806 - acc: 0.7799     \n",
      "Epoch 102/150\n",
      "768/768 [==============================] - 0s - loss: 0.4833 - acc: 0.7656     \n",
      "Epoch 103/150\n",
      "768/768 [==============================] - 0s - loss: 0.4859 - acc: 0.7604     \n",
      "Epoch 104/150\n",
      "768/768 [==============================] - 0s - loss: 0.4807 - acc: 0.7799     \n",
      "Epoch 105/150\n",
      "768/768 [==============================] - 0s - loss: 0.4977 - acc: 0.7669     \n",
      "Epoch 106/150\n",
      "768/768 [==============================] - 0s - loss: 0.4766 - acc: 0.7786     \n",
      "Epoch 107/150\n",
      "768/768 [==============================] - 0s - loss: 0.4759 - acc: 0.7773     \n",
      "Epoch 108/150\n",
      "768/768 [==============================] - 0s - loss: 0.4823 - acc: 0.7812     \n",
      "Epoch 109/150\n",
      "768/768 [==============================] - 0s - loss: 0.4761 - acc: 0.7721     \n",
      "Epoch 110/150\n",
      "768/768 [==============================] - 0s - loss: 0.4787 - acc: 0.7643     \n",
      "Epoch 111/150\n",
      "768/768 [==============================] - 0s - loss: 0.4743 - acc: 0.7839     \n",
      "Epoch 112/150\n",
      "768/768 [==============================] - 0s - loss: 0.4724 - acc: 0.7721     \n",
      "Epoch 113/150\n",
      "768/768 [==============================] - 0s - loss: 0.4779 - acc: 0.7708     \n",
      "Epoch 114/150\n",
      "768/768 [==============================] - 0s - loss: 0.4830 - acc: 0.7565     \n",
      "Epoch 115/150\n",
      "768/768 [==============================] - 0s - loss: 0.4720 - acc: 0.7656     \n",
      "Epoch 116/150\n",
      "768/768 [==============================] - 0s - loss: 0.4796 - acc: 0.7695     \n",
      "Epoch 117/150\n",
      "768/768 [==============================] - 0s - loss: 0.4708 - acc: 0.7708     \n",
      "Epoch 118/150\n",
      "768/768 [==============================] - 0s - loss: 0.4761 - acc: 0.7747     \n",
      "Epoch 119/150\n",
      "768/768 [==============================] - 0s - loss: 0.4654 - acc: 0.7760     \n",
      "Epoch 120/150\n",
      "768/768 [==============================] - 0s - loss: 0.4714 - acc: 0.7682     \n",
      "Epoch 121/150\n",
      "768/768 [==============================] - 0s - loss: 0.4754 - acc: 0.7891     \n",
      "Epoch 122/150\n",
      "768/768 [==============================] - 0s - loss: 0.4664 - acc: 0.7852     \n",
      "Epoch 123/150\n",
      "768/768 [==============================] - 0s - loss: 0.4666 - acc: 0.7617     \n",
      "Epoch 124/150\n",
      "768/768 [==============================] - 0s - loss: 0.4660 - acc: 0.7839     \n",
      "Epoch 125/150\n",
      "768/768 [==============================] - 0s - loss: 0.4755 - acc: 0.7786     \n",
      "Epoch 126/150\n",
      "768/768 [==============================] - 0s - loss: 0.4659 - acc: 0.7682     \n",
      "Epoch 127/150\n",
      "768/768 [==============================] - 0s - loss: 0.4730 - acc: 0.7721     \n",
      "Epoch 128/150\n",
      "768/768 [==============================] - 0s - loss: 0.4593 - acc: 0.7747     \n",
      "Epoch 129/150\n",
      "768/768 [==============================] - 0s - loss: 0.4670 - acc: 0.7852     \n",
      "Epoch 130/150\n",
      "768/768 [==============================] - 0s - loss: 0.4603 - acc: 0.7721     \n",
      "Epoch 131/150\n",
      "768/768 [==============================] - 0s - loss: 0.4685 - acc: 0.7747     \n",
      "Epoch 132/150\n",
      "768/768 [==============================] - 0s - loss: 0.4636 - acc: 0.7721     \n",
      "Epoch 133/150\n",
      "768/768 [==============================] - 0s - loss: 0.4743 - acc: 0.7695     \n",
      "Epoch 134/150\n",
      "768/768 [==============================] - 0s - loss: 0.4662 - acc: 0.7656     \n",
      "Epoch 135/150\n",
      "768/768 [==============================] - 0s - loss: 0.4644 - acc: 0.7760     \n",
      "Epoch 136/150\n",
      "768/768 [==============================] - 0s - loss: 0.4615 - acc: 0.7747     \n",
      "Epoch 137/150\n",
      "768/768 [==============================] - 0s - loss: 0.4583 - acc: 0.7773     \n",
      "Epoch 138/150\n",
      "768/768 [==============================] - 0s - loss: 0.4690 - acc: 0.7799     \n",
      "Epoch 139/150\n",
      "768/768 [==============================] - 0s - loss: 0.4508 - acc: 0.7773     \n",
      "Epoch 140/150\n",
      "768/768 [==============================] - 0s - loss: 0.4667 - acc: 0.7721     \n",
      "Epoch 141/150\n",
      "768/768 [==============================] - 0s - loss: 0.4568 - acc: 0.7747     \n",
      "Epoch 142/150\n",
      "768/768 [==============================] - 0s - loss: 0.4709 - acc: 0.7799     \n",
      "Epoch 143/150\n",
      "768/768 [==============================] - 0s - loss: 0.4637 - acc: 0.7695     \n",
      "Epoch 144/150\n",
      "768/768 [==============================] - 0s - loss: 0.4627 - acc: 0.7773     \n",
      "Epoch 145/150\n",
      "768/768 [==============================] - 0s - loss: 0.4717 - acc: 0.7630     \n",
      "Epoch 146/150\n",
      "768/768 [==============================] - 0s - loss: 0.4643 - acc: 0.7695     \n",
      "Epoch 147/150\n",
      "768/768 [==============================] - 0s - loss: 0.4653 - acc: 0.7773     \n",
      "Epoch 148/150\n",
      "768/768 [==============================] - 0s - loss: 0.4607 - acc: 0.7773     \n",
      "Epoch 149/150\n",
      "768/768 [==============================] - 0s - loss: 0.4615 - acc: 0.7721     \n",
      "Epoch 150/150\n",
      "768/768 [==============================] - 0s - loss: 0.4594 - acc: 0.7708     \n",
      " 32/768 [>.............................] - ETA: 0sacc: 79.30%\n"
     ]
    },
    {
     "name": "stderr",
     "output_type": "stream",
     "text": [
      "/Users/yoshi/.pyenv/versions/anaconda3-2.4.1/lib/python3.5/site-packages/keras/models.py:848: UserWarning: The `nb_epoch` argument in `fit` has been renamed `epochs`.\n",
      "  warnings.warn('The `nb_epoch` argument in `fit` '\n"
     ]
    }
   ],
   "source": [
    "from keras.models import Sequential\n",
    "from keras.layers import Dense\n",
    "import numpy\n",
    "import sys\n",
    "sys.path.append('/path/to/dir')\n",
    "\n",
    "seed = 7\n",
    "numpy.random.seed(seed)\n",
    "# load pima indians dataset\n",
    "dataset = numpy.loadtxt(\"data.csv\", delimiter=\",\")\n",
    "# split into input (X) and output (Y) variables\n",
    "X = dataset[:,0:8]\n",
    "Y = dataset[:,8]\n",
    "# create model\n",
    "model = Sequential()\n",
    "model.add(Dense(12, input_dim=8, kernel_initializer='uniform', activation='relu'))\n",
    "model.add(Dense(8, kernel_initializer='uniform', activation='relu'))\n",
    "model.add(Dense(1, kernel_initializer='uniform', activation='sigmoid'))\n",
    "# Compile model\n",
    "model.compile(loss='binary_crossentropy' , optimizer='adam', metrics=['accuracy'])\n",
    "# Fit the model\n",
    "model.fit(X, Y, nb_epoch=150, batch_size=10)\n",
    "# evaluate the model\n",
    "scores = model.evaluate(X, Y)\n",
    "print(\"%s: %.2f%%\" % (model.metrics_names[1], scores[1]*100))"
   ]
  },
  {
   "cell_type": "code",
   "execution_count": 22,
   "metadata": {
    "collapsed": false
   },
   "outputs": [
    {
     "ename": "TypeError",
     "evalue": "compile() missing 1 required positional argument: 'loss'",
     "output_type": "error",
     "traceback": [
      "\u001b[0;31m---------------------------------------------------------------------------\u001b[0m",
      "\u001b[0;31mTypeError\u001b[0m                                 Traceback (most recent call last)",
      "\u001b[0;32m<ipython-input-22-8d9c67250621>\u001b[0m in \u001b[0;36m<module>\u001b[0;34m()\u001b[0m\n\u001b[1;32m     15\u001b[0m \u001b[0;31m# evaluate model using 10-fold cross validation in scikit-learn\u001b[0m\u001b[0;34m\u001b[0m\u001b[0;34m\u001b[0m\u001b[0m\n\u001b[1;32m     16\u001b[0m \u001b[0mkfold\u001b[0m \u001b[0;34m=\u001b[0m \u001b[0mStratifiedKFold\u001b[0m\u001b[0;34m(\u001b[0m\u001b[0mn_splits\u001b[0m\u001b[0;34m=\u001b[0m\u001b[0;36m10\u001b[0m\u001b[0;34m,\u001b[0m \u001b[0mshuffle\u001b[0m\u001b[0;34m=\u001b[0m\u001b[0;32mTrue\u001b[0m\u001b[0;34m,\u001b[0m \u001b[0mrandom_state\u001b[0m\u001b[0;34m=\u001b[0m\u001b[0mseed\u001b[0m\u001b[0;34m)\u001b[0m\u001b[0;34m\u001b[0m\u001b[0m\n\u001b[0;32m---> 17\u001b[0;31m \u001b[0mresults\u001b[0m \u001b[0;34m=\u001b[0m \u001b[0mcross_val_score\u001b[0m\u001b[0;34m(\u001b[0m\u001b[0mmodel\u001b[0m\u001b[0;34m,\u001b[0m \u001b[0mX\u001b[0m\u001b[0;34m,\u001b[0m \u001b[0mY\u001b[0m\u001b[0;34m,\u001b[0m \u001b[0mcv\u001b[0m\u001b[0;34m=\u001b[0m\u001b[0mkfold\u001b[0m\u001b[0;34m)\u001b[0m\u001b[0;34m\u001b[0m\u001b[0m\n\u001b[0m",
      "\u001b[0;32m/Users/yoshi/.pyenv/versions/anaconda3-2.4.1/lib/python3.5/site-packages/sklearn/model_selection/_validation.py\u001b[0m in \u001b[0;36mcross_val_score\u001b[0;34m(estimator, X, y, groups, scoring, cv, n_jobs, verbose, fit_params, pre_dispatch)\u001b[0m\n\u001b[1;32m    138\u001b[0m                                               \u001b[0mtrain\u001b[0m\u001b[0;34m,\u001b[0m \u001b[0mtest\u001b[0m\u001b[0;34m,\u001b[0m \u001b[0mverbose\u001b[0m\u001b[0;34m,\u001b[0m \u001b[0;32mNone\u001b[0m\u001b[0;34m,\u001b[0m\u001b[0;34m\u001b[0m\u001b[0m\n\u001b[1;32m    139\u001b[0m                                               fit_params)\n\u001b[0;32m--> 140\u001b[0;31m                       for train, test in cv_iter)\n\u001b[0m\u001b[1;32m    141\u001b[0m     \u001b[0;32mreturn\u001b[0m \u001b[0mnp\u001b[0m\u001b[0;34m.\u001b[0m\u001b[0marray\u001b[0m\u001b[0;34m(\u001b[0m\u001b[0mscores\u001b[0m\u001b[0;34m)\u001b[0m\u001b[0;34m[\u001b[0m\u001b[0;34m:\u001b[0m\u001b[0;34m,\u001b[0m \u001b[0;36m0\u001b[0m\u001b[0;34m]\u001b[0m\u001b[0;34m\u001b[0m\u001b[0m\n\u001b[1;32m    142\u001b[0m \u001b[0;34m\u001b[0m\u001b[0m\n",
      "\u001b[0;32m/Users/yoshi/.pyenv/versions/anaconda3-2.4.1/lib/python3.5/site-packages/sklearn/externals/joblib/parallel.py\u001b[0m in \u001b[0;36m__call__\u001b[0;34m(self, iterable)\u001b[0m\n\u001b[1;32m    756\u001b[0m             \u001b[0;31m# was dispatched. In particular this covers the edge\u001b[0m\u001b[0;34m\u001b[0m\u001b[0;34m\u001b[0m\u001b[0m\n\u001b[1;32m    757\u001b[0m             \u001b[0;31m# case of Parallel used with an exhausted iterator.\u001b[0m\u001b[0;34m\u001b[0m\u001b[0;34m\u001b[0m\u001b[0m\n\u001b[0;32m--> 758\u001b[0;31m             \u001b[0;32mwhile\u001b[0m \u001b[0mself\u001b[0m\u001b[0;34m.\u001b[0m\u001b[0mdispatch_one_batch\u001b[0m\u001b[0;34m(\u001b[0m\u001b[0miterator\u001b[0m\u001b[0;34m)\u001b[0m\u001b[0;34m:\u001b[0m\u001b[0;34m\u001b[0m\u001b[0m\n\u001b[0m\u001b[1;32m    759\u001b[0m                 \u001b[0mself\u001b[0m\u001b[0;34m.\u001b[0m\u001b[0m_iterating\u001b[0m \u001b[0;34m=\u001b[0m \u001b[0;32mTrue\u001b[0m\u001b[0;34m\u001b[0m\u001b[0m\n\u001b[1;32m    760\u001b[0m             \u001b[0;32melse\u001b[0m\u001b[0;34m:\u001b[0m\u001b[0;34m\u001b[0m\u001b[0m\n",
      "\u001b[0;32m/Users/yoshi/.pyenv/versions/anaconda3-2.4.1/lib/python3.5/site-packages/sklearn/externals/joblib/parallel.py\u001b[0m in \u001b[0;36mdispatch_one_batch\u001b[0;34m(self, iterator)\u001b[0m\n\u001b[1;32m    606\u001b[0m                 \u001b[0;32mreturn\u001b[0m \u001b[0;32mFalse\u001b[0m\u001b[0;34m\u001b[0m\u001b[0m\n\u001b[1;32m    607\u001b[0m             \u001b[0;32melse\u001b[0m\u001b[0;34m:\u001b[0m\u001b[0;34m\u001b[0m\u001b[0m\n\u001b[0;32m--> 608\u001b[0;31m                 \u001b[0mself\u001b[0m\u001b[0;34m.\u001b[0m\u001b[0m_dispatch\u001b[0m\u001b[0;34m(\u001b[0m\u001b[0mtasks\u001b[0m\u001b[0;34m)\u001b[0m\u001b[0;34m\u001b[0m\u001b[0m\n\u001b[0m\u001b[1;32m    609\u001b[0m                 \u001b[0;32mreturn\u001b[0m \u001b[0;32mTrue\u001b[0m\u001b[0;34m\u001b[0m\u001b[0m\n\u001b[1;32m    610\u001b[0m \u001b[0;34m\u001b[0m\u001b[0m\n",
      "\u001b[0;32m/Users/yoshi/.pyenv/versions/anaconda3-2.4.1/lib/python3.5/site-packages/sklearn/externals/joblib/parallel.py\u001b[0m in \u001b[0;36m_dispatch\u001b[0;34m(self, batch)\u001b[0m\n\u001b[1;32m    569\u001b[0m         \u001b[0mdispatch_timestamp\u001b[0m \u001b[0;34m=\u001b[0m \u001b[0mtime\u001b[0m\u001b[0;34m.\u001b[0m\u001b[0mtime\u001b[0m\u001b[0;34m(\u001b[0m\u001b[0;34m)\u001b[0m\u001b[0;34m\u001b[0m\u001b[0m\n\u001b[1;32m    570\u001b[0m         \u001b[0mcb\u001b[0m \u001b[0;34m=\u001b[0m \u001b[0mBatchCompletionCallBack\u001b[0m\u001b[0;34m(\u001b[0m\u001b[0mdispatch_timestamp\u001b[0m\u001b[0;34m,\u001b[0m \u001b[0mlen\u001b[0m\u001b[0;34m(\u001b[0m\u001b[0mbatch\u001b[0m\u001b[0;34m)\u001b[0m\u001b[0;34m,\u001b[0m \u001b[0mself\u001b[0m\u001b[0;34m)\u001b[0m\u001b[0;34m\u001b[0m\u001b[0m\n\u001b[0;32m--> 571\u001b[0;31m         \u001b[0mjob\u001b[0m \u001b[0;34m=\u001b[0m \u001b[0mself\u001b[0m\u001b[0;34m.\u001b[0m\u001b[0m_backend\u001b[0m\u001b[0;34m.\u001b[0m\u001b[0mapply_async\u001b[0m\u001b[0;34m(\u001b[0m\u001b[0mbatch\u001b[0m\u001b[0;34m,\u001b[0m \u001b[0mcallback\u001b[0m\u001b[0;34m=\u001b[0m\u001b[0mcb\u001b[0m\u001b[0;34m)\u001b[0m\u001b[0;34m\u001b[0m\u001b[0m\n\u001b[0m\u001b[1;32m    572\u001b[0m         \u001b[0mself\u001b[0m\u001b[0;34m.\u001b[0m\u001b[0m_jobs\u001b[0m\u001b[0;34m.\u001b[0m\u001b[0mappend\u001b[0m\u001b[0;34m(\u001b[0m\u001b[0mjob\u001b[0m\u001b[0;34m)\u001b[0m\u001b[0;34m\u001b[0m\u001b[0m\n\u001b[1;32m    573\u001b[0m \u001b[0;34m\u001b[0m\u001b[0m\n",
      "\u001b[0;32m/Users/yoshi/.pyenv/versions/anaconda3-2.4.1/lib/python3.5/site-packages/sklearn/externals/joblib/_parallel_backends.py\u001b[0m in \u001b[0;36mapply_async\u001b[0;34m(self, func, callback)\u001b[0m\n\u001b[1;32m    107\u001b[0m     \u001b[0;32mdef\u001b[0m \u001b[0mapply_async\u001b[0m\u001b[0;34m(\u001b[0m\u001b[0mself\u001b[0m\u001b[0;34m,\u001b[0m \u001b[0mfunc\u001b[0m\u001b[0;34m,\u001b[0m \u001b[0mcallback\u001b[0m\u001b[0;34m=\u001b[0m\u001b[0;32mNone\u001b[0m\u001b[0;34m)\u001b[0m\u001b[0;34m:\u001b[0m\u001b[0;34m\u001b[0m\u001b[0m\n\u001b[1;32m    108\u001b[0m         \u001b[0;34m\"\"\"Schedule a func to be run\"\"\"\u001b[0m\u001b[0;34m\u001b[0m\u001b[0m\n\u001b[0;32m--> 109\u001b[0;31m         \u001b[0mresult\u001b[0m \u001b[0;34m=\u001b[0m \u001b[0mImmediateResult\u001b[0m\u001b[0;34m(\u001b[0m\u001b[0mfunc\u001b[0m\u001b[0;34m)\u001b[0m\u001b[0;34m\u001b[0m\u001b[0m\n\u001b[0m\u001b[1;32m    110\u001b[0m         \u001b[0;32mif\u001b[0m \u001b[0mcallback\u001b[0m\u001b[0;34m:\u001b[0m\u001b[0;34m\u001b[0m\u001b[0m\n\u001b[1;32m    111\u001b[0m             \u001b[0mcallback\u001b[0m\u001b[0;34m(\u001b[0m\u001b[0mresult\u001b[0m\u001b[0;34m)\u001b[0m\u001b[0;34m\u001b[0m\u001b[0m\n",
      "\u001b[0;32m/Users/yoshi/.pyenv/versions/anaconda3-2.4.1/lib/python3.5/site-packages/sklearn/externals/joblib/_parallel_backends.py\u001b[0m in \u001b[0;36m__init__\u001b[0;34m(self, batch)\u001b[0m\n\u001b[1;32m    324\u001b[0m         \u001b[0;31m# Don't delay the application, to avoid keeping the input\u001b[0m\u001b[0;34m\u001b[0m\u001b[0;34m\u001b[0m\u001b[0m\n\u001b[1;32m    325\u001b[0m         \u001b[0;31m# arguments in memory\u001b[0m\u001b[0;34m\u001b[0m\u001b[0;34m\u001b[0m\u001b[0m\n\u001b[0;32m--> 326\u001b[0;31m         \u001b[0mself\u001b[0m\u001b[0;34m.\u001b[0m\u001b[0mresults\u001b[0m \u001b[0;34m=\u001b[0m \u001b[0mbatch\u001b[0m\u001b[0;34m(\u001b[0m\u001b[0;34m)\u001b[0m\u001b[0;34m\u001b[0m\u001b[0m\n\u001b[0m\u001b[1;32m    327\u001b[0m \u001b[0;34m\u001b[0m\u001b[0m\n\u001b[1;32m    328\u001b[0m     \u001b[0;32mdef\u001b[0m \u001b[0mget\u001b[0m\u001b[0;34m(\u001b[0m\u001b[0mself\u001b[0m\u001b[0;34m)\u001b[0m\u001b[0;34m:\u001b[0m\u001b[0;34m\u001b[0m\u001b[0m\n",
      "\u001b[0;32m/Users/yoshi/.pyenv/versions/anaconda3-2.4.1/lib/python3.5/site-packages/sklearn/externals/joblib/parallel.py\u001b[0m in \u001b[0;36m__call__\u001b[0;34m(self)\u001b[0m\n\u001b[1;32m    129\u001b[0m \u001b[0;34m\u001b[0m\u001b[0m\n\u001b[1;32m    130\u001b[0m     \u001b[0;32mdef\u001b[0m \u001b[0m__call__\u001b[0m\u001b[0;34m(\u001b[0m\u001b[0mself\u001b[0m\u001b[0;34m)\u001b[0m\u001b[0;34m:\u001b[0m\u001b[0;34m\u001b[0m\u001b[0m\n\u001b[0;32m--> 131\u001b[0;31m         \u001b[0;32mreturn\u001b[0m \u001b[0;34m[\u001b[0m\u001b[0mfunc\u001b[0m\u001b[0;34m(\u001b[0m\u001b[0;34m*\u001b[0m\u001b[0margs\u001b[0m\u001b[0;34m,\u001b[0m \u001b[0;34m**\u001b[0m\u001b[0mkwargs\u001b[0m\u001b[0;34m)\u001b[0m \u001b[0;32mfor\u001b[0m \u001b[0mfunc\u001b[0m\u001b[0;34m,\u001b[0m \u001b[0margs\u001b[0m\u001b[0;34m,\u001b[0m \u001b[0mkwargs\u001b[0m \u001b[0;32min\u001b[0m \u001b[0mself\u001b[0m\u001b[0;34m.\u001b[0m\u001b[0mitems\u001b[0m\u001b[0;34m]\u001b[0m\u001b[0;34m\u001b[0m\u001b[0m\n\u001b[0m\u001b[1;32m    132\u001b[0m \u001b[0;34m\u001b[0m\u001b[0m\n\u001b[1;32m    133\u001b[0m     \u001b[0;32mdef\u001b[0m \u001b[0m__len__\u001b[0m\u001b[0;34m(\u001b[0m\u001b[0mself\u001b[0m\u001b[0;34m)\u001b[0m\u001b[0;34m:\u001b[0m\u001b[0;34m\u001b[0m\u001b[0m\n",
      "\u001b[0;32m/Users/yoshi/.pyenv/versions/anaconda3-2.4.1/lib/python3.5/site-packages/sklearn/externals/joblib/parallel.py\u001b[0m in \u001b[0;36m<listcomp>\u001b[0;34m(.0)\u001b[0m\n\u001b[1;32m    129\u001b[0m \u001b[0;34m\u001b[0m\u001b[0m\n\u001b[1;32m    130\u001b[0m     \u001b[0;32mdef\u001b[0m \u001b[0m__call__\u001b[0m\u001b[0;34m(\u001b[0m\u001b[0mself\u001b[0m\u001b[0;34m)\u001b[0m\u001b[0;34m:\u001b[0m\u001b[0;34m\u001b[0m\u001b[0m\n\u001b[0;32m--> 131\u001b[0;31m         \u001b[0;32mreturn\u001b[0m \u001b[0;34m[\u001b[0m\u001b[0mfunc\u001b[0m\u001b[0;34m(\u001b[0m\u001b[0;34m*\u001b[0m\u001b[0margs\u001b[0m\u001b[0;34m,\u001b[0m \u001b[0;34m**\u001b[0m\u001b[0mkwargs\u001b[0m\u001b[0;34m)\u001b[0m \u001b[0;32mfor\u001b[0m \u001b[0mfunc\u001b[0m\u001b[0;34m,\u001b[0m \u001b[0margs\u001b[0m\u001b[0;34m,\u001b[0m \u001b[0mkwargs\u001b[0m \u001b[0;32min\u001b[0m \u001b[0mself\u001b[0m\u001b[0;34m.\u001b[0m\u001b[0mitems\u001b[0m\u001b[0;34m]\u001b[0m\u001b[0;34m\u001b[0m\u001b[0m\n\u001b[0m\u001b[1;32m    132\u001b[0m \u001b[0;34m\u001b[0m\u001b[0m\n\u001b[1;32m    133\u001b[0m     \u001b[0;32mdef\u001b[0m \u001b[0m__len__\u001b[0m\u001b[0;34m(\u001b[0m\u001b[0mself\u001b[0m\u001b[0;34m)\u001b[0m\u001b[0;34m:\u001b[0m\u001b[0;34m\u001b[0m\u001b[0m\n",
      "\u001b[0;32m/Users/yoshi/.pyenv/versions/anaconda3-2.4.1/lib/python3.5/site-packages/sklearn/model_selection/_validation.py\u001b[0m in \u001b[0;36m_fit_and_score\u001b[0;34m(estimator, X, y, scorer, train, test, verbose, parameters, fit_params, return_train_score, return_parameters, return_n_test_samples, return_times, error_score)\u001b[0m\n\u001b[1;32m    236\u001b[0m             \u001b[0mestimator\u001b[0m\u001b[0;34m.\u001b[0m\u001b[0mfit\u001b[0m\u001b[0;34m(\u001b[0m\u001b[0mX_train\u001b[0m\u001b[0;34m,\u001b[0m \u001b[0;34m**\u001b[0m\u001b[0mfit_params\u001b[0m\u001b[0;34m)\u001b[0m\u001b[0;34m\u001b[0m\u001b[0m\n\u001b[1;32m    237\u001b[0m         \u001b[0;32melse\u001b[0m\u001b[0;34m:\u001b[0m\u001b[0;34m\u001b[0m\u001b[0m\n\u001b[0;32m--> 238\u001b[0;31m             \u001b[0mestimator\u001b[0m\u001b[0;34m.\u001b[0m\u001b[0mfit\u001b[0m\u001b[0;34m(\u001b[0m\u001b[0mX_train\u001b[0m\u001b[0;34m,\u001b[0m \u001b[0my_train\u001b[0m\u001b[0;34m,\u001b[0m \u001b[0;34m**\u001b[0m\u001b[0mfit_params\u001b[0m\u001b[0;34m)\u001b[0m\u001b[0;34m\u001b[0m\u001b[0m\n\u001b[0m\u001b[1;32m    239\u001b[0m \u001b[0;34m\u001b[0m\u001b[0m\n\u001b[1;32m    240\u001b[0m     \u001b[0;32mexcept\u001b[0m \u001b[0mException\u001b[0m \u001b[0;32mas\u001b[0m \u001b[0me\u001b[0m\u001b[0;34m:\u001b[0m\u001b[0;34m\u001b[0m\u001b[0m\n",
      "\u001b[0;32m/Users/yoshi/.pyenv/versions/anaconda3-2.4.1/lib/python3.5/site-packages/keras/wrappers/scikit_learn.py\u001b[0m in \u001b[0;36mfit\u001b[0;34m(self, x, y, **kwargs)\u001b[0m\n\u001b[1;32m    201\u001b[0m             \u001b[0;32mraise\u001b[0m \u001b[0mValueError\u001b[0m\u001b[0;34m(\u001b[0m\u001b[0;34m'Invalid shape for y: '\u001b[0m \u001b[0;34m+\u001b[0m \u001b[0mstr\u001b[0m\u001b[0;34m(\u001b[0m\u001b[0my\u001b[0m\u001b[0;34m.\u001b[0m\u001b[0mshape\u001b[0m\u001b[0;34m)\u001b[0m\u001b[0;34m)\u001b[0m\u001b[0;34m\u001b[0m\u001b[0m\n\u001b[1;32m    202\u001b[0m         \u001b[0mself\u001b[0m\u001b[0;34m.\u001b[0m\u001b[0mn_classes_\u001b[0m \u001b[0;34m=\u001b[0m \u001b[0mlen\u001b[0m\u001b[0;34m(\u001b[0m\u001b[0mself\u001b[0m\u001b[0;34m.\u001b[0m\u001b[0mclasses_\u001b[0m\u001b[0;34m)\u001b[0m\u001b[0;34m\u001b[0m\u001b[0m\n\u001b[0;32m--> 203\u001b[0;31m         \u001b[0;32mreturn\u001b[0m \u001b[0msuper\u001b[0m\u001b[0;34m(\u001b[0m\u001b[0mKerasClassifier\u001b[0m\u001b[0;34m,\u001b[0m \u001b[0mself\u001b[0m\u001b[0;34m)\u001b[0m\u001b[0;34m.\u001b[0m\u001b[0mfit\u001b[0m\u001b[0;34m(\u001b[0m\u001b[0mx\u001b[0m\u001b[0;34m,\u001b[0m \u001b[0my\u001b[0m\u001b[0;34m,\u001b[0m \u001b[0;34m**\u001b[0m\u001b[0mkwargs\u001b[0m\u001b[0;34m)\u001b[0m\u001b[0;34m\u001b[0m\u001b[0m\n\u001b[0m\u001b[1;32m    204\u001b[0m \u001b[0;34m\u001b[0m\u001b[0m\n\u001b[1;32m    205\u001b[0m     \u001b[0;32mdef\u001b[0m \u001b[0mpredict\u001b[0m\u001b[0;34m(\u001b[0m\u001b[0mself\u001b[0m\u001b[0;34m,\u001b[0m \u001b[0mx\u001b[0m\u001b[0;34m,\u001b[0m \u001b[0;34m**\u001b[0m\u001b[0mkwargs\u001b[0m\u001b[0;34m)\u001b[0m\u001b[0;34m:\u001b[0m\u001b[0;34m\u001b[0m\u001b[0m\n",
      "\u001b[0;32m/Users/yoshi/.pyenv/versions/anaconda3-2.4.1/lib/python3.5/site-packages/keras/wrappers/scikit_learn.py\u001b[0m in \u001b[0;36mfit\u001b[0;34m(self, x, y, **kwargs)\u001b[0m\n\u001b[1;32m    134\u001b[0m                 **self.filter_sk_params(self.build_fn.__call__))\n\u001b[1;32m    135\u001b[0m         \u001b[0;32melse\u001b[0m\u001b[0;34m:\u001b[0m\u001b[0;34m\u001b[0m\u001b[0m\n\u001b[0;32m--> 136\u001b[0;31m             \u001b[0mself\u001b[0m\u001b[0;34m.\u001b[0m\u001b[0mmodel\u001b[0m \u001b[0;34m=\u001b[0m \u001b[0mself\u001b[0m\u001b[0;34m.\u001b[0m\u001b[0mbuild_fn\u001b[0m\u001b[0;34m(\u001b[0m\u001b[0;34m**\u001b[0m\u001b[0mself\u001b[0m\u001b[0;34m.\u001b[0m\u001b[0mfilter_sk_params\u001b[0m\u001b[0;34m(\u001b[0m\u001b[0mself\u001b[0m\u001b[0;34m.\u001b[0m\u001b[0mbuild_fn\u001b[0m\u001b[0;34m)\u001b[0m\u001b[0;34m)\u001b[0m\u001b[0;34m\u001b[0m\u001b[0m\n\u001b[0m\u001b[1;32m    137\u001b[0m \u001b[0;34m\u001b[0m\u001b[0m\n\u001b[1;32m    138\u001b[0m         \u001b[0mloss_name\u001b[0m \u001b[0;34m=\u001b[0m \u001b[0mself\u001b[0m\u001b[0;34m.\u001b[0m\u001b[0mmodel\u001b[0m\u001b[0;34m.\u001b[0m\u001b[0mloss\u001b[0m\u001b[0;34m\u001b[0m\u001b[0m\n",
      "\u001b[0;32m<ipython-input-22-8d9c67250621>\u001b[0m in \u001b[0;36mcreate_model\u001b[0;34m()\u001b[0m\n\u001b[1;32m      8\u001b[0m         \u001b[0;34m...\u001b[0m\u001b[0;34m\u001b[0m\u001b[0m\n\u001b[1;32m      9\u001b[0m         \u001b[0;31m# Compile model\u001b[0m\u001b[0;34m\u001b[0m\u001b[0;34m\u001b[0m\u001b[0m\n\u001b[0;32m---> 10\u001b[0;31m         \u001b[0mmodel\u001b[0m\u001b[0;34m.\u001b[0m\u001b[0mcompile\u001b[0m\u001b[0;34m(\u001b[0m\u001b[0;34m...\u001b[0m\u001b[0;34m)\u001b[0m\u001b[0;34m\u001b[0m\u001b[0m\n\u001b[0m\u001b[1;32m     11\u001b[0m         \u001b[0;32mreturn\u001b[0m \u001b[0mmodel\u001b[0m\u001b[0;34m\u001b[0m\u001b[0m\n\u001b[1;32m     12\u001b[0m \u001b[0;34m\u001b[0m\u001b[0m\n",
      "\u001b[0;31mTypeError\u001b[0m: compile() missing 1 required positional argument: 'loss'"
     ]
    }
   ],
   "source": [
    "from keras.wrappers.scikit_learn import KerasClassifier\n",
    "from sklearn.model_selection import StratifiedKFold\n",
    "from sklearn.model_selection import cross_val_score\n",
    "\n",
    "def create_model():\n",
    "\t# Create model\n",
    "\tmodel = Sequential()\n",
    "\t...\n",
    "\t# Compile model\n",
    "\tmodel.compile(...)\n",
    "\treturn model\n",
    "\n",
    "# create classifier for use in scikit-learn\n",
    "model = KerasClassifier(build_fn=create_model, nb_epoch=150, batch_size=10)\n",
    "# evaluate model using 10-fold cross validation in scikit-learn\n",
    "kfold = StratifiedKFold(n_splits=10, shuffle=True, random_state=seed)\n",
    "results = cross_val_score(model, X, Y, cv=kfold)\n"
   ]
  },
  {
   "cell_type": "code",
   "execution_count": 25,
   "metadata": {
    "collapsed": false
   },
   "outputs": [
    {
     "name": "stderr",
     "output_type": "stream",
     "text": [
      "/Users/yoshi/.pyenv/versions/anaconda3-2.4.1/lib/python3.5/site-packages/keras/preprocessing/image.py:653: UserWarning: Expected input to be images (as Numpy array) following the data format convention \"channels_last\" (channels on axis 3), i.e. expected either 1, 3 or 4 channels on axis 3. However, it was passed an array with shape (60000, 1, 28, 28) (28 channels).\n",
      "  ' (' + str(x.shape[self.channel_axis]) + ' channels).')\n",
      "/Users/yoshi/.pyenv/versions/anaconda3-2.4.1/lib/python3.5/site-packages/keras/preprocessing/image.py:787: UserWarning: NumpyArrayIterator is set to use the data format convention \"channels_last\" (channels on axis 3), i.e. expected either 1, 3 or 4 channels on axis 3. However, it was passed an array with shape (60000, 1, 28, 28) (28 channels).\n",
      "  ' (' + str(self.x.shape[channels_axis]) + ' channels).')\n"
     ]
    },
    {
     "data": {
      "image/png": "[encoded data removed]",
      "text/plain": [
       "<matplotlib.figure.Figure at 0x118f955c0>"
      ]
     },
     "metadata": {},
     "output_type": "display_data"
    }
   ],
   "source": [
    "%matplotlib inline\n",
    "\n",
    "# Random Rotations\n",
    "from keras.datasets import mnist\n",
    "from keras.preprocessing.image import ImageDataGenerator\n",
    "from matplotlib import pyplot\n",
    "# load data\n",
    "(X_train, y_train), (X_test, y_test) = mnist.load_data()\n",
    "# reshape to be [samples][pixels][width][height]\n",
    "X_train = X_train.reshape(X_train.shape[0], 1, 28, 28)\n",
    "X_test = X_test.reshape(X_test.shape[0], 1, 28, 28)\n",
    "# convert from int to float\n",
    "X_train = X_train.astype('float32')\n",
    "X_test = X_test.astype('float32')\n",
    "# define data preparation\n",
    "datagen = ImageDataGenerator(rotation_range=90)\n",
    "# fit parameters from data\n",
    "datagen.fit(X_train)\n",
    "# configure batch size and retrieve one batch of images\n",
    "for X_batch, y_batch in datagen.flow(X_train, y_train, batch_size=9):\n",
    "\t# create a grid of 3x3 images\n",
    "\tfor i in range(0, 9):\n",
    "\t\tpyplot.subplot(330 + 1 + i)\n",
    "\t\tpyplot.imshow(X_batch[i].reshape(28, 28), cmap=pyplot.get_cmap('gray'))\n",
    "\t# show the plot\n",
    "\tpyplot.show()\n",
    "\tbreak"
   ]
  },
  {
   "cell_type": "code",
   "execution_count": null,
   "metadata": {
    "collapsed": true
   },
   "outputs": [],
   "source": []
  }
 ],
 "metadata": {
  "kernelspec": {
   "display_name": "Python 3",
   "language": "python",
   "name": "python3"
  },
  "language_info": {
   "codemirror_mode": {
    "name": "ipython",
    "version": 3
   },
   "file_extension": ".py",
   "mimetype": "text/x-python",
   "name": "python",
   "nbconvert_exporter": "python",
   "pygments_lexer": "ipython3",
   "version": "3.5.3"
  }
 },
 "nbformat": 4,
 "nbformat_minor": 2
}
